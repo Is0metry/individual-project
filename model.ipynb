{
 "cells": [
  {
   "cell_type": "code",
   "execution_count": 3,
   "metadata": {},
   "outputs": [],
   "source": [
    "import numpy as np\n",
    "import pandas as pd\n",
    "import seaborn as sns\n",
    "import matplotlib.pyplot as plt\n",
    "from importlib import reload\n",
    "import warnings\n",
    "import wrangle as w\n",
    "import explore as e\n",
    "warnings.simplefilter(\"ignore\")\n",
    "%matplotlib inline\n",
    "%config InlineBackend.figure_format = 'retina'"
   ]
  },
  {
   "cell_type": "code",
   "execution_count": 5,
   "metadata": {},
   "outputs": [],
   "source": [
    "coaster_df = w.wrangle_coasters()\n",
    "train, validate, test = w.tvt_split(coaster_df,stratify='track_material')"
   ]
  },
  {
   "cell_type": "code",
   "execution_count": 9,
   "metadata": {},
   "outputs": [
    {
     "ename": "ImportError",
     "evalue": "cannot import name 'lmplot_kwargs' from 'custom_dtypes' (/Users/woody/codeup-data-science/individual-project/custom_dtypes.py)",
     "output_type": "error",
     "traceback": [
      "\u001b[0;31m---------------------------------------------------------------------------\u001b[0m",
      "\u001b[0;31mImportError\u001b[0m                               Traceback (most recent call last)",
      "Cell \u001b[0;32mIn[9], line 1\u001b[0m\n\u001b[0;32m----> 1\u001b[0m \u001b[39mimport\u001b[39;00m \u001b[39mmodel\u001b[39;00m \u001b[39mas\u001b[39;00m \u001b[39mm\u001b[39;00m\n",
      "File \u001b[0;32m~/codeup-data-science/individual-project/model.py:13\u001b[0m\n\u001b[1;32m     10\u001b[0m \u001b[39mfrom\u001b[39;00m \u001b[39msklearn\u001b[39;00m\u001b[39m.\u001b[39;00m\u001b[39mmetrics\u001b[39;00m \u001b[39mimport\u001b[39;00m mean_squared_error\n\u001b[1;32m     11\u001b[0m \u001b[39mfrom\u001b[39;00m \u001b[39msklearn\u001b[39;00m\u001b[39m.\u001b[39;00m\u001b[39mpreprocessing\u001b[39;00m \u001b[39mimport\u001b[39;00m MinMaxScaler\n\u001b[0;32m---> 13\u001b[0m \u001b[39mimport\u001b[39;00m \u001b[39mevaluate\u001b[39;00m \u001b[39mas\u001b[39;00m \u001b[39mev\u001b[39;00m\n\u001b[1;32m     14\u001b[0m \u001b[39mfrom\u001b[39;00m \u001b[39mcustom_dtypes\u001b[39;00m \u001b[39mimport\u001b[39;00m LinearRegressionType, ModelDataType\n\u001b[1;32m     15\u001b[0m \u001b[39mfrom\u001b[39;00m \u001b[39mwrangle\u001b[39;00m \u001b[39mimport\u001b[39;00m scale\n",
      "File \u001b[0;32m~/codeup-data-science/individual-project/evaluate.py:11\u001b[0m\n\u001b[1;32m      8\u001b[0m \u001b[39mfrom\u001b[39;00m \u001b[39msklearn\u001b[39;00m\u001b[39m.\u001b[39;00m\u001b[39mmetrics\u001b[39;00m \u001b[39mimport\u001b[39;00m mean_squared_error\n\u001b[1;32m     10\u001b[0m \u001b[39mimport\u001b[39;00m \u001b[39mmodel\u001b[39;00m \u001b[39mas\u001b[39;00m \u001b[39mm\u001b[39;00m\n\u001b[0;32m---> 11\u001b[0m \u001b[39mfrom\u001b[39;00m \u001b[39mcustom_dtypes\u001b[39;00m \u001b[39mimport\u001b[39;00m ModelDataType, lmplot_kwargs\n\u001b[1;32m     14\u001b[0m \u001b[39mdef\u001b[39;00m \u001b[39mget_residuals\u001b[39m(y_true: ModelDataType,\n\u001b[1;32m     15\u001b[0m                   y_pred: Union[ModelDataType, \u001b[39mfloat\u001b[39m]) \u001b[39m-\u001b[39m\u001b[39m>\u001b[39m pd\u001b[39m.\u001b[39mDataFrame:\n\u001b[1;32m     16\u001b[0m     \u001b[39m'''\u001b[39;00m\n\u001b[1;32m     17\u001b[0m \u001b[39m    gets the residual and residual squared values for predicted y values\u001b[39;00m\n\u001b[1;32m     18\u001b[0m \u001b[39m    ## Parameters\u001b[39;00m\n\u001b[0;32m   (...)\u001b[0m\n\u001b[1;32m     23\u001b[0m \u001b[39m     the residual values, and the residual squared values\u001b[39;00m\n\u001b[1;32m     24\u001b[0m \u001b[39m    '''\u001b[39;00m\n",
      "\u001b[0;31mImportError\u001b[0m: cannot import name 'lmplot_kwargs' from 'custom_dtypes' (/Users/woody/codeup-data-science/individual-project/custom_dtypes.py)"
     ]
    }
   ],
   "source": [
    "import model as m\n"
   ]
  }
 ],
 "metadata": {
  "kernelspec": {
   "display_name": "codeup",
   "language": "python",
   "name": "python3"
  },
  "language_info": {
   "codemirror_mode": {
    "name": "ipython",
    "version": 3
   },
   "file_extension": ".py",
   "mimetype": "text/x-python",
   "name": "python",
   "nbconvert_exporter": "python",
   "pygments_lexer": "ipython3",
   "version": "3.9.15"
  },
  "orig_nbformat": 4,
  "vscode": {
   "interpreter": {
    "hash": "653f3b7eb86bda3113d2d1f85ae6ed711e8a2906aba868c97a03afd554718a6e"
   }
  }
 },
 "nbformat": 4,
 "nbformat_minor": 2
}
